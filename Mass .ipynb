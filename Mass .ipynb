{
 "cells": [
  {
   "cell_type": "code",
   "execution_count": 1,
   "id": "d42329d1",
   "metadata": {},
   "outputs": [],
   "source": [
    "from pyopenms import *"
   ]
  },
  {
   "cell_type": "code",
   "execution_count": 3,
   "id": "e5f39d18",
   "metadata": {},
   "outputs": [
    {
     "name": "stdout",
     "output_type": "stream",
     "text": [
      "387.2481710527\n"
     ]
    }
   ],
   "source": [
    "Seq = AASequence.fromString(\"VAKA\")\n",
    "Total = seq.getMonoWeight()\n",
    "print(Total)"
   ]
  },
  {
   "cell_type": "code",
   "execution_count": 4,
   "id": "3d336e25",
   "metadata": {},
   "outputs": [
    {
     "name": "stdout",
     "output_type": "stream",
     "text": [
      "441.2798662441\n"
     ]
    }
   ],
   "source": [
    "seq = AASequence.fromString(\"VAKA\")\n",
    "sum = 0\n",
    "for i in seq:\n",
    "    sum+= i.getMonoWeight()\n",
    "print(sum)"
   ]
  },
  {
   "cell_type": "code",
   "execution_count": 5,
   "id": "76f38322",
   "metadata": {},
   "outputs": [
    {
     "data": {
      "text/plain": [
       "False"
      ]
     },
     "execution_count": 5,
     "metadata": {},
     "output_type": "execute_result"
    }
   ],
   "source": [
    "sum == Total"
   ]
  },
  {
   "cell_type": "code",
   "execution_count": null,
   "id": "7ecf6030",
   "metadata": {},
   "outputs": [],
   "source": []
  }
 ],
 "metadata": {
  "kernelspec": {
   "display_name": "Python 3",
   "language": "python",
   "name": "python3"
  },
  "language_info": {
   "codemirror_mode": {
    "name": "ipython",
    "version": 3
   },
   "file_extension": ".py",
   "mimetype": "text/x-python",
   "name": "python",
   "nbconvert_exporter": "python",
   "pygments_lexer": "ipython3",
   "version": "3.8.8"
  }
 },
 "nbformat": 4,
 "nbformat_minor": 5
}
