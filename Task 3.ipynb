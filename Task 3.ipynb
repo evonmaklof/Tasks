{
 "cells": [
  {
   "cell_type": "code",
   "execution_count": 2,
   "id": "1f894c3d",
   "metadata": {},
   "outputs": [
    {
     "name": "stdout",
     "output_type": "stream",
     "text": [
      "K\n",
      "GSMKPVK\n",
      "TEEPELEPLCCCEYIDR\n",
      "NHVATCLCDCQDLDEGCDR\n",
      "SLQPETCER\n",
      "IMDTISDR\n",
      "EQTLFFLSLGLFSLGYMYYVFLQEVVPK\n",
      "VGPVQLAVLTCGLFLILLALHR\n",
      "NPGYLSNPASGDR\n",
      "SLSSSQLECLSR\n",
      "GFPGADMSGSLNNR\n",
      "MPAGSPTK\n",
      "CQLVRPAR\n",
      "ICGICVR\n",
      "EVQQALR\n",
      "LLCGLIVDTGLLG\n"
     ]
    }
   ],
   "source": [
    "from pyopenms import *\n",
    "dig = ProteaseDigestion()\n",
    "dig.getEnzymeName() \n",
    "bsa = \"\".join([l.strip() for l in open(\"uniprot-yourlist_M20211212A084FC58F6BBA219896F365D15F2EB4435AA19W.fasta\").readlines()[1:]])\n",
    "bsa = AASequence.fromString(bsa)\n",
    "result = []\n",
    "dig.digest(bsa, result)\n",
    "print(result[4].toString())\n",
    "len(result) \n",
    "dig.digest(bsa, result, 7, 40)\n",
    "for s in result:\n",
    "    print(s.toString())"
   ]
  },
  {
   "cell_type": "code",
   "execution_count": null,
   "id": "0b8a9ca1",
   "metadata": {},
   "outputs": [],
   "source": []
  }
 ],
 "metadata": {
  "kernelspec": {
   "display_name": "Python 3",
   "language": "python",
   "name": "python3"
  },
  "language_info": {
   "codemirror_mode": {
    "name": "ipython",
    "version": 3
   },
   "file_extension": ".py",
   "mimetype": "text/x-python",
   "name": "python",
   "nbconvert_exporter": "python",
   "pygments_lexer": "ipython3",
   "version": "3.8.8"
  }
 },
 "nbformat": 4,
 "nbformat_minor": 5
}
