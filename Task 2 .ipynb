{
 "cells": [
  {
   "cell_type": "code",
   "execution_count": 3,
   "id": "56d92234",
   "metadata": {},
   "outputs": [
    {
     "name": "stdout",
     "output_type": "stream",
     "text": [
      "GIK\n"
     ]
    },
    {
     "data": {
      "text/plain": [
       "127"
      ]
     },
     "execution_count": 3,
     "metadata": {},
     "output_type": "execute_result"
    }
   ],
   "source": [
    "from pyopenms import *\n",
    "dig = ProteaseDigestion()\n",
    "dig.getEnzymeName() \n",
    "bsa = \"\".join([l.strip() for l in open(\"uniprot-yourlist_M202111205BF3C56A578D7D6DFD1FC81EE5DA77302FD47AU.fasta\").readlines()[1:]])\n",
    "bsa = AASequence.fromString(bsa)\n",
    "result = []\n",
    "dig.digest(bsa, result)\n",
    "print(result[4].toString())\n",
    "len(result) "
   ]
  },
  {
   "cell_type": "code",
   "execution_count": 4,
   "id": "a3f45285",
   "metadata": {},
   "outputs": [
    {
     "name": "stdout",
     "output_type": "stream",
     "text": [
      "MSDSQQSIK\n",
      "VLEELFQK\n",
      "LSVATADNR\n",
      "HEIASEVASFLNGNIIEHDVPEHFFGELAK\n",
      "TAANAMQAVAHIANQSNLSPSVEPYIVQLVPAICTNAGNK\n",
      "EIQSVASETLISIVNAVNPVAIK\n",
      "ALLPHLTNAIVETNK\n",
      "IAILAAISAMVDAAK\n",
      "MPELIPVLSETMWDTK\n",
      "AAATAAMTK\n",
      "ATETVDNK\n",
      "SAVIIDNMCK\n",
      "LVEDPQVIAPFLGK\n",
      "SNFATIADPEAR\n",
      "VGNVGEDDAIPEVSHAGDVSTTLQVVNELLK\n",
      "DETVAPR\n",
      "IVVEYIAAIGADLIDER\n",
      "IIDQQAWFTHITPYMTIFLHEK\n",
      "DILDEFR\n",
      "AVDNIPVGPNFDDEEDEGEDLCNCEFSLAYGAK\n",
      "YGICGPNGCGK\n",
      "AIANGQVDGFPTQEECR\n",
      "TVYVEHDIDGTHSDTSVLDFVFESGVGTK\n",
      "LIEFGFTDEMIAMPISALSGGWK\n",
      "GNFTEFVK\n",
      "AYEELSNTDLEFK\n",
      "FPEPGYLEGVK\n",
      "VTNMEFQYPGTSKPQITDINFQCSLSSR\n",
      "IAVIGPNGAGK\n",
      "STLINVLTGELLPTSGEVYTHENCR\n",
      "QHAFAHIESHLDK\n",
      "TPSEYIQWR\n",
      "FQTGEDR\n",
      "QINENDAEAMNK\n",
      "IAGIHSR\n",
      "NTYEYECSFLLGENIGMK\n",
      "WVPMMSVDNAWIPR\n",
      "GELVESHSK\n",
      "MVAEVDMK\n",
      "EALASGQFRPLTR\n",
      "EIEEHCSMLGLDPEIVSHSR\n",
      "GLSGGQK\n",
      "LVLAAGTWQRPHLIVLDEPTNYLDR\n",
      "DSLGALSK\n",
      "EFEGGVIIITHSAEFTK\n",
      "NLTEEVWAVK\n",
      "MTPSGHNWVSGQGAGPR\n",
      "FDAMGNK\n",
      "LSSAELR\n",
      "ELGDAYVSSDEEF\n"
     ]
    }
   ],
   "source": [
    "# only create peptides of length 7-40\n",
    "dig.digest(bsa, result, 7, 40)\n",
    "# print the results\n",
    "for s in result:\n",
    "    print(s.toString())"
   ]
  },
  {
   "cell_type": "code",
   "execution_count": null,
   "id": "74af8ab1",
   "metadata": {},
   "outputs": [],
   "source": []
  },
  {
   "cell_type": "code",
   "execution_count": null,
   "id": "2da09ef2",
   "metadata": {},
   "outputs": [],
   "source": []
  },
  {
   "cell_type": "code",
   "execution_count": null,
   "id": "0600f7d8",
   "metadata": {},
   "outputs": [],
   "source": []
  },
  {
   "cell_type": "code",
   "execution_count": null,
   "id": "4c46362e",
   "metadata": {},
   "outputs": [],
   "source": []
  }
 ],
 "metadata": {
  "kernelspec": {
   "display_name": "Python 3",
   "language": "python",
   "name": "python3"
  },
  "language_info": {
   "codemirror_mode": {
    "name": "ipython",
    "version": 3
   },
   "file_extension": ".py",
   "mimetype": "text/x-python",
   "name": "python",
   "nbconvert_exporter": "python",
   "pygments_lexer": "ipython3",
   "version": "3.8.8"
  }
 },
 "nbformat": 4,
 "nbformat_minor": 5
}
